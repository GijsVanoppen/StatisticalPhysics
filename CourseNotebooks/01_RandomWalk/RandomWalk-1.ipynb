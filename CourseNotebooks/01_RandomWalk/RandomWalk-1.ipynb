{
 "cells": [
  {
   "cell_type": "markdown",
   "metadata": {},
   "source": [
    "# Random Walk #"
   ]
  },
  {
   "cell_type": "code",
   "execution_count": null,
   "metadata": {
    "ExecuteTime": {
     "end_time": "2021-09-30T15:26:05.635008Z",
     "start_time": "2021-09-30T15:26:00.288357Z"
    }
   },
   "outputs": [],
   "source": [
    "import matplotlib.pyplot as plt\n",
    "import numpy as np\n",
    "import scipy.special as sc\n"
   ]
  },
  {
   "cell_type": "code",
   "execution_count": null,
   "metadata": {
    "ExecuteTime": {
     "end_time": "2021-09-30T15:26:06.846792Z",
     "start_time": "2021-09-30T15:26:06.835821Z"
    }
   },
   "outputs": [],
   "source": [
    "# De parameters\n",
    "N=10        # totaal aantal stappen\n",
    "n1=3        # aantal stappen naar rechts\n",
    "n2=N-n1     # aantal stappen naar links\n",
    "p=0.5       # kans voor stap naar rechts\n",
    "q=1.0-p     # kans voor stap naar links\n"
   ]
  },
  {
   "cell_type": "markdown",
   "metadata": {},
   "source": [
    "## 1. Waarschijnlijkheidsverdeling ##"
   ]
  },
  {
   "cell_type": "code",
   "execution_count": null,
   "metadata": {
    "ExecuteTime": {
     "end_time": "2021-09-30T15:28:07.166183Z",
     "start_time": "2021-09-30T15:28:07.150226Z"
    }
   },
   "outputs": [],
   "source": [
    "min_n1=-10\n",
    "max_n1=20\n",
    "nsteps=max_n1-min_n1+1  #+1 want er is altijd 1 gridpunt meer dan er stappen in een grid zijn\n",
    "Xcoord=np.linspace(min_n1,max_n1,nsteps) # maak een reeks van n1 waarden gaande van min_n1 tot max_n1\n",
    "\n",
    "Ycoord=np.zeros(nsteps)\n",
    "for i in range(nsteps): #bepaal nu de verwachtingswaarde voor elk mogelijk punt\n",
    "    Ycoord[i]+=sc.binom(N,Xcoord[i])*(p**Xcoord[i])*(q**(N-Xcoord[i]))    # P(n1)=binom(N,n1)* p^n1 * q^n2"
   ]
  },
  {
   "cell_type": "code",
   "execution_count": null,
   "metadata": {
    "ExecuteTime": {
     "end_time": "2021-09-30T15:28:10.811239Z",
     "start_time": "2021-09-30T15:28:09.874469Z"
    }
   },
   "outputs": [],
   "source": [
    "# Mooi plotten\n",
    "plt.figure(figsize=(12,8))\n",
    "plt.plot(Xcoord, Ycoord,  color='blue',linewidth=2, zorder=0) # plot de data als lijn\n",
    "plt.scatter(Xcoord, Ycoord,  color='black', zorder=1)         # plot de data als set onverbonden punten\n",
    "# Propere opmaak van de assen\n",
    "plt.axis([min_n1,max_n1,0,0.5])\n",
    "plt.xticks(Xcoord,rotation=45,fontsize=18)\n",
    "Ylst=np.linspace(0,0.5,11)\n",
    "plt.yticks(Ylst,fontsize=18)\n",
    "plt.xlabel(\"n1\",fontsize=22,fontweight=\"bold\")\n",
    "plt.ylabel(\"P(n1)\",fontsize=22,fontweight=\"bold\")\n",
    "# Alles is nu klaar om op te slaan in een file of te plotten (show) op het scherm.\n",
    "plt.show()"
   ]
  },
  {
   "cell_type": "markdown",
   "metadata": {},
   "source": [
    "## 2. Evolutie waarschijnlijkheidsverdeling ##\n",
    "Hoe verandert de waarschijnlijkheidsverdeling bij verandering van N?"
   ]
  },
  {
   "cell_type": "code",
   "execution_count": null,
   "metadata": {
    "ExecuteTime": {
     "end_time": "2021-09-30T15:34:20.937512Z",
     "start_time": "2021-09-30T15:34:20.924543Z"
    }
   },
   "outputs": [],
   "source": [
    "min_n1=-10\n",
    "max_n1=20\n",
    "nsteps=max_n1-min_n1+1  #+1 want er is altijd 1 gridpunt meer dan er stappen in een grid zijn\n",
    "Xcoord=np.linspace(min_n1,max_n1,nsteps) # maak een reeks van n1 waarden gaande van min_n1 tot max_n1\n",
    "\n",
    "min_N=5\n",
    "max_N=20\n",
    "numN=max_N-min_N+1\n",
    "Nlist=np.linspace(min_N,max_N,numN)\n",
    "\n",
    "Ycoord=np.zeros((numN,nsteps))\n",
    "for iN in range(numN): #+1: python neemt de bovengrens niet mee\n",
    "    N=iN+min_N         # iN is de index in de lijst, begint bij 0, N is dan de echte \"N-waarde\"\n",
    "    # Voor elke N genereren we nu een curve zoals voorheen.\n",
    "    for i in range(nsteps):\n",
    "        Ycoord[iN,i]+=sc.binom(N,Xcoord[i])*(p**Xcoord[i])*(q**(N-Xcoord[i]))"
   ]
  },
  {
   "cell_type": "code",
   "execution_count": null,
   "metadata": {
    "ExecuteTime": {
     "end_time": "2021-09-30T15:36:24.250191Z",
     "start_time": "2021-09-30T15:36:23.710920Z"
    }
   },
   "outputs": [],
   "source": [
    "# Opnieuw alles mooi plotten\n",
    "plt.figure(figsize=(12,8))\n",
    "for iN in range(numN): #een lus over de verschillende curves\n",
    "    Yc=Ycoord[iN]\n",
    "    plt.plot(Xcoord, Yc,   color='blue'  ,linewidth=3, zorder=-1, alpha=(1.0-0.9*(iN/numN))) \n",
    "    # door met de alpha-waarde (transparantie) te spelen kunnen we een reeks curves met verschillende kleur genereren.\n",
    "# De opmaak van de assen\n",
    "plt.axis([min_n1,max_n1,0,0.5])\n",
    "plt.xticks(Xcoord,rotation=45,fontsize=18)\n",
    "Ylst=np.linspace(0,0.5,11)\n",
    "plt.yticks(Ylst,fontsize=18)\n",
    "plt.xlabel(\"n1\",fontsize=22,fontweight=\"bold\")\n",
    "plt.ylabel(\"P(n1)\",fontsize=22,fontweight=\"bold\")\n",
    "# Tonen op het scherm\n",
    "plt.show()"
   ]
  },
  {
   "cell_type": "markdown",
   "metadata": {},
   "source": [
    "## 3. Stap evolutie ##"
   ]
  },
  {
   "cell_type": "code",
   "execution_count": null,
   "metadata": {
    "ExecuteTime": {
     "end_time": "2021-09-30T15:42:29.741233Z",
     "start_time": "2021-09-30T15:42:29.614605Z"
    }
   },
   "outputs": [],
   "source": [
    "# Alles in 1 enkele cel\n",
    "#------------------------\n",
    "\n",
    "#1. parameters opnieuw instellen\n",
    "min_N=1   # minimaal aantal stappen\n",
    "max_N=100 # maximaal aantal stappen\n",
    "numN=max_N-min_N+1 # aantal stappen\n",
    "p=0.5     # kans stap rechts\n",
    "q=1.0-p   # kans stap links\n",
    "\n",
    "#2. curves bepalen\n",
    "Ncoord=np.linspace(min_N,max_N,numN)\n",
    "E_n1=np.zeros(numN)     # gemiddelde n1 (of expectation value)\n",
    "Var_n1=np.zeros(numN)   # variantie n1  (aka sigma-kwadraat)\n",
    "for iN in range(numN):\n",
    "    N=iN+min_N\n",
    "    E_n1[iN]=N*p\n",
    "    Var_n1[iN]=N*p*q\n",
    "    \n",
    "#3. Mooi plotten\n",
    "plt.figure(figsize=(12,8))\n",
    "\n",
    "#variantie omzetten in 2sigma range\n",
    "SigLow=np.zeros(numN)\n",
    "SigHigh=np.zeros(numN)\n",
    "for iN in range(numN):\n",
    "    N=iN+min_N\n",
    "    sig2=np.sqrt(Var_n1[iN])   # Voor een foutenvlag kijken we naar 1, 2, 3x sigma, dus sqrt\n",
    "    SigLow[iN]=E_n1[iN]-sig2\n",
    "    SigHigh[iN]=E_n1[iN]+sig2\n",
    "\n",
    "# vul de regio tussen de twee curves\n",
    "plt.fill_between(Ncoord, SigLow, SigHigh, color='blue', zorder=0, alpha=.5) \n",
    "# en teken de curve zelf (bovenop de gekleurde regio)\n",
    "plt.plot(Ncoord, E_n1,  color='blue',linewidth=2, zorder=0)                 \n",
    "\n",
    "# opmaak van de assen\n",
    "plt.axis([min_N,max_N,0,E_n1[-1]])\n",
    "Xlst=np.linspace(0,max_N,5)\n",
    "plt.xticks(Xlst,rotation=45,fontsize=18)\n",
    "Ylst=np.linspace(0,E_n1[-1],int(E_n1[-1]*0.1)+1)\n",
    "plt.yticks(Ylst,fontsize=18)\n",
    "plt.xlabel(\"N\",fontsize=22,fontweight=\"bold\")\n",
    "plt.ylabel(\"E[n1]\",fontsize=22,fontweight=\"bold\")\n",
    "# en op het scherm weergeven\n",
    "plt.show()"
   ]
  },
  {
   "cell_type": "markdown",
   "metadata": {},
   "source": [
    "## 4. Gemiddelde positie ##"
   ]
  },
  {
   "cell_type": "code",
   "execution_count": null,
   "metadata": {
    "ExecuteTime": {
     "end_time": "2021-09-30T15:44:05.802752Z",
     "start_time": "2021-09-30T15:44:05.652119Z"
    }
   },
   "outputs": [],
   "source": [
    "#1. parameters opnieuw instellen\n",
    "l=0.1     # stapgrootte in willekeurige eenheden\n",
    "min_N=1   # minimaal aantal stappen\n",
    "max_N=100 # maximaal aantal stappen\n",
    "numN=max_N-min_N+1 # aantal stappen\n",
    "p=0.5     # kans stap rechts\n",
    "q=1.0-p   # kans stap links\n",
    "\n",
    "#2. curves bepalen\n",
    "Ncoord=np.linspace(min_N,max_N,numN)\n",
    "E_L=np.zeros(numN)     # gemiddelde n1\n",
    "Var_L=np.zeros(numN)   # variantie n1\n",
    "for iN in range(numN):\n",
    "    N=iN+min_N\n",
    "    E_L[iN]=N*(p-q)*l\n",
    "    Var_L[iN]=4.0*N*p*q*(l**2)\n",
    "    \n",
    "#3. Mooi plotten\n",
    "plt.figure(figsize=(12,8))\n",
    "\n",
    "#variantie omzetten in 2sigma range\n",
    "SigLow=np.zeros(numN)\n",
    "SigHigh=np.zeros(numN)\n",
    "for iN in range(numN):\n",
    "    N=iN+min_N\n",
    "    sig2=np.sqrt(Var_L[iN])\n",
    "    SigLow[iN]=E_L[iN]-sig2\n",
    "    SigHigh[iN]=E_L[iN]+sig2\n",
    "    \n",
    "plt.fill_between(Ncoord, SigLow, SigHigh, color='blue', zorder=0, alpha=.5)\n",
    "plt.plot(Ncoord, E_L,  color='blue',linewidth=2, zorder=0)\n",
    "\n",
    "# Assen opmaken \n",
    "min_L=np.min(SigLow)\n",
    "max_L=max(SigHigh)\n",
    "plt.axis([min_N,max_N,min_L,max_L])\n",
    "Xlst=np.linspace(0,max_N,5)\n",
    "plt.xticks(Xlst,rotation=45,fontsize=18)\n",
    "Ylst=np.linspace(min_L,max_L,10)\n",
    "plt.yticks(Ylst,fontsize=18)\n",
    "plt.xlabel(\"N\",fontsize=22,fontweight=\"bold\")\n",
    "plt.ylabel(\"E[L]\",fontsize=22,fontweight=\"bold\")\n",
    "# En alles op het scherm plotten\n",
    "plt.show()"
   ]
  },
  {
   "cell_type": "code",
   "execution_count": null,
   "metadata": {},
   "outputs": [],
   "source": []
  }
 ],
 "metadata": {
  "kernelspec": {
   "display_name": "Python 3",
   "language": "python",
   "name": "python3"
  },
  "language_info": {
   "codemirror_mode": {
    "name": "ipython",
    "version": 3
   },
   "file_extension": ".py",
   "mimetype": "text/x-python",
   "name": "python",
   "nbconvert_exporter": "python",
   "pygments_lexer": "ipython3",
   "version": "3.7.3"
  },
  "latex_envs": {
   "LaTeX_envs_menu_present": true,
   "autoclose": false,
   "autocomplete": true,
   "bibliofile": "biblio.bib",
   "cite_by": "apalike",
   "current_citInitial": 1,
   "eqLabelWithNumbers": true,
   "eqNumInitial": 1,
   "hotkeys": {
    "equation": "Ctrl-E",
    "itemize": "Ctrl-I"
   },
   "labels_anchors": false,
   "latex_user_defs": false,
   "report_style_numbering": false,
   "user_envs_cfg": false
  },
  "varInspector": {
   "cols": {
    "lenName": 16,
    "lenType": 16,
    "lenVar": 40
   },
   "kernels_config": {
    "python": {
     "delete_cmd_postfix": "",
     "delete_cmd_prefix": "del ",
     "library": "var_list.py",
     "varRefreshCmd": "print(var_dic_list())"
    },
    "r": {
     "delete_cmd_postfix": ") ",
     "delete_cmd_prefix": "rm(",
     "library": "var_list.r",
     "varRefreshCmd": "cat(var_dic_list()) "
    }
   },
   "types_to_exclude": [
    "module",
    "function",
    "builtin_function_or_method",
    "instance",
    "_Feature"
   ],
   "window_display": false
  }
 },
 "nbformat": 4,
 "nbformat_minor": 2
}
