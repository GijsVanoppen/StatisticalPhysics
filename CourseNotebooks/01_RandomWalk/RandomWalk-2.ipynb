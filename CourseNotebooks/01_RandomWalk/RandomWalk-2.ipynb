{
 "cells": [
  {
   "cell_type": "markdown",
   "metadata": {},
   "source": [
    "# Monte Carlo simulation of a 2D Random walk#\n",
    "Behorende bij sectie 1.6 boek Casquilho"
   ]
  },
  {
   "cell_type": "code",
   "execution_count": null,
   "metadata": {
    "ExecuteTime": {
     "end_time": "2021-09-30T15:44:54.776656Z",
     "start_time": "2021-09-30T15:44:54.520017Z"
    }
   },
   "outputs": [],
   "source": [
    "from mpl_toolkits import mplot3d\n",
    "import matplotlib.pyplot as plt\n",
    "from matplotlib.animation import FuncAnimation\n",
    "import numpy as np"
   ]
  },
  {
   "cell_type": "markdown",
   "metadata": {},
   "source": [
    "## Single 2D Random Walk ##\n",
    "Een eenvoudige Random walk in 2 dimensies op een rechthoekig grid met gelijke stapgrootte. Elke richting heeft eenzelfde kans.  "
   ]
  },
  {
   "cell_type": "code",
   "execution_count": null,
   "metadata": {
    "ExecuteTime": {
     "end_time": "2021-09-30T15:53:47.761494Z",
     "start_time": "2021-09-30T15:53:47.221917Z"
    },
    "scrolled": false
   },
   "outputs": [],
   "source": [
    "#1. Initialisatie\n",
    "x=0    # start positie\n",
    "y=0\n",
    "N=100  # aantal stappen in de RW\n",
    "\n",
    "dx=np.array([1,-1,0,0]) # Er zijn 4 mogelijke staprichtingen (index 1..4)\n",
    "dy=np.array([0,0,1,-1]) # In deze arrays slaan we voor elk van de richtingen \n",
    "                        #    de beweging in x en y op.\n",
    "xpos=np.zeros(N+1) # lege arrays op x en y posities op te slaan\n",
    "ypos=np.zeros(N+1)\n",
    "\n",
    "#2. Random walk in 2D over een fixed grid, met gelijke kansen.\n",
    "for j in range(N):\n",
    "    Rn=np.random.randint(4) # random integer van 0..3 ==> gelijke kans voor elke richting\n",
    "    x+=dx[Rn]               # de beweging van x en y posities \n",
    "    y+=dy[Rn]\n",
    "    xpos[j+1]=x             # en opslaan voor later gebruik\n",
    "    ypos[j+1]=y\n",
    "\n",
    "#3. Plotje\n",
    "plt.figure(figsize=(12,8))\n",
    "plt.plot(xpos, ypos,  color='blue',linewidth=1, zorder=0)\n",
    "min_x=min(np.min(xpos),np.min(ypos))-1\n",
    "max_x=max(np.max(xpos),np.max(ypos))+1\n",
    "plt.axis([min_x,max_x,min_x,max_x])\n",
    "XYlst=np.linspace(min_x,max_x,int(max_x-min_x)+1)\n",
    "plt.xticks(XYlst,fontsize=18)\n",
    "plt.yticks(XYlst,fontsize=18)\n",
    "plt.xlabel(\"X\",fontsize=22,fontweight=\"bold\")\n",
    "plt.ylabel(\"Y\",fontsize=22,fontweight=\"bold\")\n",
    "plt.show()"
   ]
  },
  {
   "cell_type": "markdown",
   "metadata": {},
   "source": [
    "## Monte Carlo Sampling 2D Random Walks ##\n",
    "Om meer algemeen gedrag van een 2D Random Walk te observeren is het nuttig meerdere random walks uit te voeren. Deze set van Random Walks noemen we een ensemble, en voor een voldoende groot ensemble zijn we geinteresseerd in de gemiddelde waarde van de eigenschappen die onze interesse wegdragen."
   ]
  },
  {
   "cell_type": "code",
   "execution_count": null,
   "metadata": {
    "ExecuteTime": {
     "end_time": "2021-09-30T16:50:40.009836Z",
     "start_time": "2021-09-30T16:50:38.889868Z"
    }
   },
   "outputs": [],
   "source": [
    "# 1. Initialisatie\n",
    "N=100  # aantal stappen in de RW\n",
    "M=1000   # aantal kopiën in het ensemble\n",
    "\n",
    "dx=np.array([1,-1,0,0])\n",
    "dy=np.array([0,0,1,-1])\n",
    "\n",
    "xpos=np.zeros((M,N+1))\n",
    "ypos=np.zeros((M,N+1))\n",
    "ravg=np.zeros(N+1)\n",
    "r2avg=np.zeros(N+1)\n",
    "x2avg=np.zeros(N+1)\n",
    "y2avg=np.zeros(N+1)\n",
    "Xcoord=np.zeros(N+1)\n",
    "# 2. Lus over alle ensemble elementen\n",
    "for i in range(M):\n",
    "    x=0    # start positie\n",
    "    y=0\n",
    "    # 2.1. Lus over alle stappen van 1 Random walk\n",
    "    for j in range(N):\n",
    "        Rn=np.random.randint(4) # random integer van 0..3 ==> gelijke kans voor elke richting\n",
    "        x+=dx[Rn]\n",
    "        y+=dy[Rn]\n",
    "        xpos[i,j+1]=x\n",
    "        ypos[i,j+1]=y\n",
    "        r2=x**2+y**2\n",
    "        r2avg[j+1]+=r2       # we tellen eerst alle r2 en r binnen het ensemble op (een r en r2 voor elk stappenaantal N)\n",
    "        ravg[j+1]+=np.sqrt(r2)  # straks nog delen door M\n",
    "        x2avg[j+1]+=x**2\n",
    "        y2avg[j+1]+=y**2\n",
    "        \n",
    "# 2.2 Uitmiddelen van ensemble eigenschappen        \n",
    "for j in range (N):\n",
    "    Xcoord[j+1]=j\n",
    "    ravg[j+1]/=M\n",
    "    r2avg[j+1]/=M\n",
    "    x2avg[j+1]/=M\n",
    "    y2avg[j+1]/=M\n",
    "        \n",
    "# 3. Plotje maken van de resultaten\n",
    "plt.figure(figsize=(12,8))\n",
    "plt.plot(Xcoord, x2avg,  color='blue',linewidth=1, zorder=0)\n",
    "plt.plot(Xcoord, y2avg,  color='red',linewidth=1, zorder=0)\n",
    "plt.plot(Xcoord, r2avg,  color='black',linewidth=1, zorder=0)\n",
    "\n",
    "min_x=min(np.min(xpos),np.min(ypos))-1\n",
    "max_x=max(np.max(xpos),np.max(ypos))+1\n",
    "plt.axis([0,N,0,N])\n",
    "XYlst=np.linspace(0,N,int(N/10)+1)\n",
    "plt.xticks(XYlst,fontsize=18)\n",
    "plt.yticks(XYlst,fontsize=18)\n",
    "plt.xlabel(\"N\",fontsize=22,fontweight=\"bold\")\n",
    "plt.ylabel(\"Y\",fontsize=22,fontweight=\"bold\")\n",
    "plt.show()"
   ]
  },
  {
   "cell_type": "markdown",
   "metadata": {},
   "source": [
    "## 3D Random Walk ##\n",
    "Het verschil tussen een 2D en een 3D Random walk is programmatorisch relatief beperkt. Het hoofdzakelijke verschil zit in de aanwezigheid van een derde coordinaat. De scripts van hierboven kunnen dus grotendeels overgenomen worden en dienen enkel hierop aangepast te worden. Visualisatie van een 3D afbeelding vraagt wat extra werk.\n",
    "\n",
    "De eerstvolgende cel bevat een script voor één enkele Random Walk, terwijl de tweede cel terug een ensemble genereert."
   ]
  },
  {
   "cell_type": "code",
   "execution_count": null,
   "metadata": {
    "ExecuteTime": {
     "end_time": "2021-09-30T17:34:19.228230Z",
     "start_time": "2021-09-30T17:34:18.377968Z"
    }
   },
   "outputs": [],
   "source": [
    "## Eén enkele Random Walk\n",
    "##-----------------------\n",
    "#0. Deze regel laat je toe de 3D afbeelding in het notebook te roteren :-)\n",
    "%matplotlib notebook\n",
    "#1. Initialisatie\n",
    "x=0    # start positie\n",
    "y=0\n",
    "z=0\n",
    "N=1000  # aantal stappen in de RW\n",
    "\n",
    "dx=np.array([1,-1,0,0,0,0])  # in 3D heb je 6 mogelijke staprichtingen\n",
    "dy=np.array([0,0,1,-1,0,0])\n",
    "dz=np.array([0,0,0,0,1,-1])\n",
    "\n",
    "xpos=np.zeros(N+1)\n",
    "ypos=np.zeros(N+1)\n",
    "zpos=np.zeros(N+1)\n",
    "#2. De Random Walk \n",
    "for j in range(N):\n",
    "    Rn=np.random.randint(6) # random integer van 0..5 ==> gelijke kans voor elke richting\n",
    "    x+=dx[Rn]\n",
    "    y+=dy[Rn]\n",
    "    z+=dz[Rn]\n",
    "    xpos[j+1]=x\n",
    "    ypos[j+1]=y\n",
    "    zpos[j+1]=z\n",
    "\n",
    "#3. 3D plotje\n",
    "fig = plt.figure(figsize=(8,8))\n",
    "ax = plt.axes(projection='3d')\n",
    "# Data for a three-dimensional line\n",
    "ax.plot3D(xpos, ypos, zpos, 'gray')\n",
    "#ax.scatter3D(xpos, ypos, zpos, c=zpos, cmap='Greens');\n",
    "plt.show()"
   ]
  },
  {
   "cell_type": "code",
   "execution_count": null,
   "metadata": {
    "ExecuteTime": {
     "end_time": "2021-09-30T17:41:46.096289Z",
     "start_time": "2021-09-30T17:41:43.984444Z"
    }
   },
   "outputs": [],
   "source": [
    "## Een ensemble van Random Walks\n",
    "##-------------------------------\n",
    "# 0. Deze regel laat je toe de 3D afbeelding in het notebook te roteren :-)\n",
    "%matplotlib notebook\n",
    "#1. Initialisatie Ensemble van 3D RWs\n",
    "N=100  # aantal stappen in de RW\n",
    "M=1000   # aantal RWs in het ensemble\n",
    "\n",
    "### 2. ISOTROPE beweging\n",
    "dx=np.array([1,-1,0,0,0,0])\n",
    "dy=np.array([0,0,1,-1,0,0])\n",
    "dz=np.array([0,0,0,0,1,-1])\n",
    "\n",
    "xpos=np.zeros((M,N+1))\n",
    "ypos=np.zeros((M,N+1))\n",
    "zpos=np.zeros((M,N+1))\n",
    "# 2.1. Lus over het ensemble\n",
    "for i in range(M):\n",
    "    x=0    # start positie\n",
    "    y=0\n",
    "    z=0\n",
    "    # 2.2. Lus over alle stappen van 1 RW\n",
    "    for j in range(N):\n",
    "        Rn=np.random.randint(6) # random integer van 0..5 ==> gelijke kans voor elke richting\n",
    "        x+=dx[Rn]\n",
    "        y+=dy[Rn]\n",
    "        z+=dz[Rn]\n",
    "        xpos[i,j+1]=x\n",
    "        ypos[i,j+1]=y\n",
    "        zpos[i,j+1]=z\n",
    "\n",
    "### 3. ANISOTROPE beweging (i.e. met voorkeursrichtingen of verschillende mesh-size/stapgrootte) \n",
    "dx=np.array([1,-1,0,0,0,0])\n",
    "dy=np.array([0,0,0.2,-0.2,0,0])\n",
    "dz=np.array([0,0,0,0,5,-5])\n",
    "\n",
    "AXL=int(np.sqrt(N*25)*1.25)\n",
    "xpos2=np.zeros((M,N+1))\n",
    "ypos2=np.zeros((M,N+1))\n",
    "zpos2=np.zeros((M,N+1))\n",
    "# 3.1. Lus over ensemble\n",
    "for i in range(M):\n",
    "    x=0    # start positie\n",
    "    y=0\n",
    "    z=0\n",
    "    # 3.2. Lus over alle stappen van 1 RW\n",
    "    for j in range(N):\n",
    "        Rn=np.random.randint(6) # random integer van 0..5 ==> gelijke kans voor elke richting\n",
    "        x+=dx[Rn]\n",
    "        y+=dy[Rn]\n",
    "        z+=dz[Rn]\n",
    "        xpos2[i,j+1]=x\n",
    "        ypos2[i,j+1]=y\n",
    "        zpos2[i,j+1]=z\n",
    "\n",
    "# 4. 3D plot van het geheel\n",
    "fig = plt.figure(figsize=(8,8))\n",
    "ax = plt.axes(projection='3d')\n",
    "ax.set_xlim3d([-AXL, AXL])\n",
    "ax.set_xlabel('X')\n",
    "ax.set_ylim3d([-AXL, AXL])\n",
    "ax.set_ylabel('Y')\n",
    "ax.set_zlim3d([-AXL, AXL])\n",
    "ax.set_zlabel('Z')\n",
    "\n",
    "# 4.1. Data voor 3D pad\n",
    "for i in range(M):\n",
    "    ax.plot3D(xpos[i,:], ypos[i,:], zpos[i,:], 'gray',alpha=0.01)\n",
    "    ax.plot3D(xpos2[i,:], ypos2[i,:], zpos2[i,:], 'red',alpha=0.01)\n",
    "#for i in range(M):\n",
    "#    ax.scatter3D(xpos[i,:], ypos[i,:], zpos[i,:], c='grey', alpha=0.01);\n",
    "#    ax.scatter3D(xpos2[i,:], ypos2[i,:], zpos2[i,:], c='red', alpha=0.01);\n",
    "\n",
    "# 4.2. Een extra functie om een animatie te kunnen maken    \n",
    "def update(i):\n",
    "    #hoeken zijn in graden\n",
    "    rot=3*i\n",
    "    #sinf=np.sin(rot*np.pi/180.0)\n",
    "    ax.view_init(elev=20., azim=rot)\n",
    "      \n",
    "# 4.3. 3D animatie om op te slaan\n",
    "anim = FuncAnimation(fig, update, frames=np.arange(0, 120), interval=20)\n",
    "# Volgende regel uncommenten om dit op te slaan als een gif-animatie\n",
    "#anim.save('3D_RW.gif', dpi=80, writer='imagemagick')\n",
    "\n",
    "# 4.4. En de animatie plotten naar het scherm\n",
    "plt.show()"
   ]
  },
  {
   "cell_type": "code",
   "execution_count": null,
   "metadata": {},
   "outputs": [],
   "source": []
  }
 ],
 "metadata": {
  "kernelspec": {
   "display_name": "Python 3",
   "language": "python",
   "name": "python3"
  },
  "language_info": {
   "codemirror_mode": {
    "name": "ipython",
    "version": 3
   },
   "file_extension": ".py",
   "mimetype": "text/x-python",
   "name": "python",
   "nbconvert_exporter": "python",
   "pygments_lexer": "ipython3",
   "version": "3.7.3"
  },
  "latex_envs": {
   "LaTeX_envs_menu_present": true,
   "autoclose": false,
   "autocomplete": true,
   "bibliofile": "biblio.bib",
   "cite_by": "apalike",
   "current_citInitial": 1,
   "eqLabelWithNumbers": true,
   "eqNumInitial": 1,
   "hotkeys": {
    "equation": "Ctrl-E",
    "itemize": "Ctrl-I"
   },
   "labels_anchors": false,
   "latex_user_defs": false,
   "report_style_numbering": false,
   "user_envs_cfg": false
  },
  "varInspector": {
   "cols": {
    "lenName": 16,
    "lenType": 16,
    "lenVar": 40
   },
   "kernels_config": {
    "python": {
     "delete_cmd_postfix": "",
     "delete_cmd_prefix": "del ",
     "library": "var_list.py",
     "varRefreshCmd": "print(var_dic_list())"
    },
    "r": {
     "delete_cmd_postfix": ") ",
     "delete_cmd_prefix": "rm(",
     "library": "var_list.r",
     "varRefreshCmd": "cat(var_dic_list()) "
    }
   },
   "types_to_exclude": [
    "module",
    "function",
    "builtin_function_or_method",
    "instance",
    "_Feature"
   ],
   "window_display": false
  }
 },
 "nbformat": 4,
 "nbformat_minor": 2
}
